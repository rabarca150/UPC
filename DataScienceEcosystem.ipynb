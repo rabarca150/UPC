{
  "nbformat": 4,
  "nbformat_minor": 0,
  "metadata": {
    "colab": {
      "provenance": []
    },
    "kernelspec": {
      "name": "python3",
      "display_name": "Python 3"
    },
    "language_info": {
      "name": "python"
    }
  },
  "cells": [
    {
      "cell_type": "markdown",
      "source": [
        "# Data Science Tools and Ecosystem"
      ],
      "metadata": {
        "id": "6wvtbWAx-cG4"
      }
    },
    {
      "cell_type": "markdown",
      "source": [
        "In this notebook, Data Science Tools and Ecosystem are summarized."
      ],
      "metadata": {
        "id": "T13tUmKw-wnO"
      }
    },
    {
      "cell_type": "markdown",
      "source": [
        "Some of the popular languages that Data Scientists use are:\n",
        "\n",
        "\n",
        "* Python: Widely used for its simplicity and readability, as well as its extensive libraries such as pandas, NumPy, scikit-learn, TensorFlow, and PyTorch.\n",
        "* R: Known for its strong statistical capabilities and a comprehensive ecosystem of packages like ggplot2, dplyr, and caret, which are specifically designed for data analysis and visualization.\n",
        "* SQL: Essential for querying and managing databases. SQL is used to extract, manipulate, and manage data stored in relational databases.\n",
        "* Julia: Gaining popularity for its high performance, especially in numerical and scientific computing. Julia combines the ease of Python with the speed of C++.\n",
        "* Java: Often used in large-scale data processing and enterprise-level applications. Java has libraries like Weka and Deeplearning4j for machine learning.\n",
        "\n",
        "**Objectives:**\n",
        "\n",
        "- List popular languages for Data Science\n",
        "- List commonly used libraries by Data Scientists\n",
        "- Create a table for Data Science tools\n",
        "- Evaluate arithmetic expressions in Python\n",
        "- Convert units (e.g., minutes to hours)\n",
        "\n"
      ],
      "metadata": {
        "id": "5qw9AFR3_BqW"
      }
    },
    {
      "cell_type": "markdown",
      "source": [
        "Some of the commonly used libraries used by Data Scientists include:\n",
        "* pandas: Essential for data manipulation and analysis, providing data structures like DataFrames.\n",
        "* NumPy: Fundamental for numerical computations, offering support for large multi-dimensional arrays and matrices.\n",
        "* scikit-learn: A key library for machine learning, offering simple and efficient tools for data mining and data analysis."
      ],
      "metadata": {
        "id": "-tJsh3Ue_wYq"
      }
    },
    {
      "cell_type": "markdown",
      "source": [
        "Data Science Tools\n",
        "\n",
        "| Data Science Tools  |\n",
        "|---------------------|\n",
        "| Jupyter Notebook    |\n",
        "| RStudio             |\n",
        "| Apache Zeppelin     |"
      ],
      "metadata": {
        "id": "5OgXBWVq_-g5"
      }
    },
    {
      "cell_type": "markdown",
      "source": [
        "### Below are a few examples of evaluating arithmetic expressions in Python\n",
        "\n",
        "#### Addition\n",
        "result = 3 + 5\n",
        "\n",
        "print(\"3 + 5 =\", result)\n",
        "\n",
        "#### Subtraction\n",
        "result = 10 - 4\n",
        "\n",
        "print(\"10 - 4 =\", result)\n",
        "\n",
        "#### Multiplication\n",
        "result = 7 * 6\n",
        "\n",
        "print(\"7 * 6 =\", result)"
      ],
      "metadata": {
        "id": "760V_jsnAyUK"
      }
    },
    {
      "cell_type": "code",
      "source": [
        "#esta es una expresión aritmética simple para luego agregar números enteros\n",
        "result = (3 * 4) + 5\n",
        "print(\"El resultado de (3 * 4) + 5 es:\", result)"
      ],
      "metadata": {
        "colab": {
          "base_uri": "https://localhost:8080/"
        },
        "id": "QdbFfHCoBjX4",
        "outputId": "6d5b09cd-3f49-47dc-e18e-35f662aea980"
      },
      "execution_count": 1,
      "outputs": [
        {
          "output_type": "stream",
          "name": "stdout",
          "text": [
            "El resultado de (3 * 4) + 5 es: 17\n"
          ]
        }
      ]
    },
    {
      "cell_type": "code",
      "source": [
        "# Esto convertirá 200 minutos en horas dividiendo por 60.\n",
        "minutes = 200\n",
        "hours = minutes / 60\n",
        "print(f\"{minutes} minutos son {hours} horas\")"
      ],
      "metadata": {
        "colab": {
          "base_uri": "https://localhost:8080/"
        },
        "id": "DUaBhzsrCD-g",
        "outputId": "7d3ad69a-5771-462d-a321-9e9575674bc6"
      },
      "execution_count": 2,
      "outputs": [
        {
          "output_type": "stream",
          "name": "stdout",
          "text": [
            "200 minutos son 3.3333333333333335 horas\n"
          ]
        }
      ]
    },
    {
      "cell_type": "markdown",
      "source": [
        "## Autor: Rogeer Renzo Abarca Trujillo"
      ],
      "metadata": {
        "id": "zG0OzRnZDB_w"
      }
    },
    {
      "cell_type": "markdown",
      "source": [],
      "metadata": {
        "id": "R_i_5FPODHGf"
      }
    }
  ]
}